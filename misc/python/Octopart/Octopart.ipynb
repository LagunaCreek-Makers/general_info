{
 "cells": [
  {
   "cell_type": "code",
   "execution_count": 1,
   "metadata": {},
   "outputs": [],
   "source": [
    "import octopart_api\n",
    "import octopart_schemas\n",
    "import json\n",
    "octo = octopart_api.OctopartService(\"69ad0c78\")"
   ]
  },
  {
   "cell_type": "code",
   "execution_count": 2,
   "metadata": {},
   "outputs": [],
   "source": [
    "mtch = octo.partsMatch(json.dumps([{'mpn':'LM1458N'}]))"
   ]
  },
  {
   "cell_type": "code",
   "execution_count": 3,
   "metadata": {},
   "outputs": [],
   "source": [
    "pt = octo.partsUid('5f879380a7e68040')"
   ]
  },
  {
   "cell_type": "code",
   "execution_count": 4,
   "metadata": {},
   "outputs": [],
   "source": [
    "pt.download_all()"
   ]
  },
  {
   "cell_type": "code",
   "execution_count": 8,
   "metadata": {},
   "outputs": [
    {
     "name": "stdout",
     "output_type": "stream",
     "text": [
      "Request: {'__class__': 'PartsMatchRequest', 'exact_only': False, 'queries': [{'__class__': 'PartsMatchQuery', 'brand': None, 'limit': 3, 'mpn': 'LM1458N', 'mpn_or_sku': None, 'q': '', 'reference': None, 'seller': None, 'sku': None, 'start': 0}]}\n",
      "mSec: 87\n",
      "Hits: 4\n",
      "Reference: None\n",
      "Error: None\n",
      "UID: d4bd1d3a87000b7a\n",
      "MPN: LM1458N\n",
      "Manufactuer:\n",
      "\tUID: 40f985f368ed933e\n",
      "\tName: Texas Instruments\n",
      "\tURL: http://ti.com\n",
      "Brand:\n",
      "\tUID: 2239e3330e2df5fe\n",
      "\tName: Texas Instruments\n",
      "\tURL: http://ti.com\n",
      "OctoPart URL: https://octopart.com/lm1458n-texas+instruments-9271003\n",
      "\n",
      "UID: 5f879380a7e68040\n",
      "MPN: LM1458N\n",
      "Manufactuer:\n",
      "\tUID: 912b5421b95b42ec\n",
      "\tName: ON Semiconductor\n",
      "\tURL: None\n",
      "Brand:\n",
      "\tUID: e5492443c939328e\n",
      "\tName: ON Semiconductor\n",
      "\tURL: None\n",
      "OctoPart URL: https://octopart.com/lm1458n-on+semiconductor-84794631\n",
      "\n",
      "UID: 6623af025cd4b9e4\n",
      "MPN: LM1458N\n",
      "Manufactuer:\n",
      "\tUID: 0ce3c9e9254edf24\n",
      "\tName: Intersil\n",
      "\tURL: http://www.intersil.com\n",
      "Brand:\n",
      "\tUID: 162fd7253b82c1e8\n",
      "\tName: Intersil\n",
      "\tURL: http://www.intersil.com\n",
      "OctoPart URL: https://octopart.com/lm1458n-intersil-2826129\n",
      "\n",
      "\n",
      "\n"
     ]
    }
   ],
   "source": [
    "print(mtch)"
   ]
  },
  {
   "cell_type": "code",
   "execution_count": 37,
   "metadata": {},
   "outputs": [
    {
     "name": "stdout",
     "output_type": "stream",
     "text": [
      "{'__class__': 'PartsMatchResult', 'error': None, 'hits': 1, 'items': [{'__class__': 'Part', 'brand': {'__class__': 'Brand', 'homepage_url': 'http://ti.com', 'name': 'Texas Instruments', 'uid': '2239e3330e2df5fe'}, 'manufacturer': {'__class__': 'Manufacturer', 'homepage_url': 'http://ti.com', 'name': 'Texas Instruments', 'uid': '40f985f368ed933e'}, 'mpn': 'LM1458N', 'octopart_url': 'https://octopart.com/lm1458n-texas+instruments-9271003', 'offers': [{'__class__': 'PartOffer', '_naive_id': 'a4250dc2950b0f15e46451eeabd63b62', 'eligible_region': 'US', 'factory_lead_days': None, 'factory_order_multiple': None, 'in_stock_quantity': 2697, 'is_authorized': True, 'is_realtime': False, 'last_updated': '2018-02-26T19:15:41Z', 'moq': 1, 'multipack_quantity': '1', 'octopart_rfq_url': None, 'on_order_eta': None, 'on_order_quantity': None, 'order_multiple': None, 'packaging': None, 'prices': {'USD': [[1, '1.08000'], [10, '0.92500'], [100, '0.71100'], [500, '0.62800'], [1000, '0.54700'], [2500, '0.44400'], [10000, '0.43000']]}, 'product_url': 'https://octopart.com/click/track?country=US&ak=69ad0c78&sig=0f347eb&sid=2402&ppid=9271003&vpid=190861393&ct=offers', 'seller': {'__class__': 'Seller', 'display_flag': 'US', 'has_ecommerce': True, 'homepage_url': 'http://www.newark.com', 'id': '2402', 'name': 'Newark', 'uid': 'd294179ef2900153'}, 'sku': '97K3202'}, {'__class__': 'PartOffer', '_naive_id': '44331a84a847fedcfb5d8abcb8f46491', 'eligible_region': '', 'factory_lead_days': None, 'factory_order_multiple': None, 'in_stock_quantity': 4034, 'is_authorized': True, 'is_realtime': False, 'last_updated': '2018-02-26T18:45:04Z', 'moq': 1, 'multipack_quantity': '1', 'octopart_rfq_url': None, 'on_order_eta': None, 'on_order_quantity': None, 'order_multiple': None, 'packaging': None, 'prices': {'GBP': [[1, '0.78200'], [50, '0.68300'], [100, '0.51200'], [250, '0.48200'], [500, '0.45200'], [1000, '0.35600'], [2500, '0.31800'], [5000, '0.31400']]}, 'product_url': 'https://octopart.com/click/track?country=US&ak=69ad0c78&sig=06498ea&sid=819&ppid=9271003&vpid=139739671&ct=offers', 'seller': {'__class__': 'Seller', 'display_flag': 'GB', 'has_ecommerce': True, 'homepage_url': 'http://www.farnell.com/', 'id': '819', 'name': 'Farnell', 'uid': '58989d9272cd8b5f'}, 'sku': '9486852'}, {'__class__': 'PartOffer', '_naive_id': '8d8ca006beef3c623797971fd489da30', 'eligible_region': '', 'factory_lead_days': None, 'factory_order_multiple': None, 'in_stock_quantity': 2886, 'is_authorized': True, 'is_realtime': False, 'last_updated': '2018-02-26T10:40:25Z', 'moq': 1, 'multipack_quantity': '1', 'octopart_rfq_url': None, 'on_order_eta': None, 'on_order_quantity': None, 'order_multiple': None, 'packaging': None, 'prices': {'SGD': [[1, '1.72000'], [25, '1.47000'], [100, '1.14000'], [250, '0.93600'], [500, '0.76300'], [1000, '0.68700']]}, 'product_url': 'https://octopart.com/click/track?country=US&ak=69ad0c78&sig=0316509&sid=11744&ppid=9271003&vpid=132681924&ct=offers', 'seller': {'__class__': 'Seller', 'display_flag': 'SG', 'has_ecommerce': True, 'homepage_url': 'http://www.element14.com/', 'id': '3702', 'name': 'element14 APAC', 'uid': '7f61ba6b5871aca6'}, 'sku': '9486852'}, {'__class__': 'PartOffer', '_naive_id': '4552990f03562b0e62dab835233faf9e', 'eligible_region': '', 'factory_lead_days': None, 'factory_order_multiple': None, 'in_stock_quantity': 103, 'is_authorized': False, 'is_realtime': False, 'last_updated': '2018-02-19T18:41:14Z', 'moq': None, 'multipack_quantity': None, 'octopart_rfq_url': None, 'on_order_eta': None, 'on_order_quantity': None, 'order_multiple': None, 'packaging': None, 'prices': {'USD': [[1, '0.39442'], [33, '0.30776'], [65, '0.26892'], [97, '0.25099'], [121, '0.23306']]}, 'product_url': 'https://octopart.com/click/track?country=US&ak=69ad0c78&sig=009a2b9&sid=13062&ppid=9271003&vpid=44178725&ct=offers', 'seller': {'__class__': 'Seller', 'display_flag': 'US', 'has_ecommerce': True, 'homepage_url': 'http://rcfreelance.com/', 'id': '3917', 'name': 'Freelance Electronics', 'uid': 'a1fc64f687d7723b'}, 'sku': 'LM1458N'}, {'__class__': 'PartOffer', '_naive_id': '59289755d5eddad72e3687fdf140a4ca', 'eligible_region': '', 'factory_lead_days': None, 'factory_order_multiple': None, 'in_stock_quantity': 253, 'is_authorized': False, 'is_realtime': False, 'last_updated': '2018-02-24T12:40:13Z', 'moq': None, 'multipack_quantity': None, 'octopart_rfq_url': None, 'on_order_eta': None, 'on_order_quantity': None, 'order_multiple': None, 'packaging': None, 'prices': {'USD': [[1, '0.25000']]}, 'product_url': 'https://octopart.com/click/track?country=US&ak=69ad0c78&sig=08ffd04&sid=13811&ppid=9271003&vpid=49656860&ct=offers', 'seller': {'__class__': 'Seller', 'display_flag': 'US', 'has_ecommerce': False, 'homepage_url': 'http://www.area51recertified.com', 'id': '4212', 'name': 'Area51', 'uid': 'c56c0066fc7e16ab'}, 'sku': 'LM1458N'}, {'__class__': 'PartOffer', '_naive_id': 'f5fa986a5aae34cbf10505c99659736f', 'eligible_region': '', 'factory_lead_days': None, 'factory_order_multiple': None, 'in_stock_quantity': 74, 'is_authorized': False, 'is_realtime': False, 'last_updated': '2018-02-24T22:17:58Z', 'moq': 1, 'multipack_quantity': None, 'octopart_rfq_url': 'https://octopart.com/rfq/generate?ppid=9271003&vpid=268648548', 'on_order_eta': None, 'on_order_quantity': None, 'order_multiple': 1, 'packaging': None, 'prices': {}, 'product_url': 'https://octopart.com/click/track?country=US&ak=69ad0c78&sig=0575bee&sid=13184&ppid=9271003&vpid=268648548&ct=offers', 'seller': {'__class__': 'Seller', 'display_flag': 'GB', 'has_ecommerce': True, 'homepage_url': 'http://componentsense.com/', 'id': '3951', 'name': 'Component Sense', 'uid': 'cd0a0800eb031ecd'}, 'sku': 'LM1458N'}, {'__class__': 'PartOffer', '_naive_id': '350ef329555a55d6460a84c06afb9435', 'eligible_region': '', 'factory_lead_days': None, 'factory_order_multiple': None, 'in_stock_quantity': 143, 'is_authorized': False, 'is_realtime': False, 'last_updated': '2018-02-26T08:25:01Z', 'moq': None, 'multipack_quantity': None, 'octopart_rfq_url': None, 'on_order_eta': None, 'on_order_quantity': None, 'order_multiple': None, 'packaging': None, 'prices': {}, 'product_url': 'https://octopart.com/click/track?country=US&ak=69ad0c78&sig=0d6201a&sid=24673&ppid=9271003&vpid=180998801&ct=offers', 'seller': {'__class__': 'Seller', 'display_flag': 'US', 'has_ecommerce': False, 'homepage_url': 'http://www.freedomemg.com/', 'id': '9642', 'name': 'Freedom EMG', 'uid': 'ef592a53e3953c9e'}, 'sku': 'LM1458N'}, {'__class__': 'PartOffer', '_naive_id': 'a81ea8b553024993fdff224d76f6e8a7', 'eligible_region': '', 'factory_lead_days': None, 'factory_order_multiple': None, 'in_stock_quantity': 8, 'is_authorized': False, 'is_realtime': False, 'last_updated': '2018-02-26T20:08:02Z', 'moq': None, 'multipack_quantity': None, 'octopart_rfq_url': None, 'on_order_eta': None, 'on_order_quantity': None, 'order_multiple': None, 'packaging': None, 'prices': {'USD': [[1, '1.20000'], [5, '0.90000']]}, 'product_url': 'https://octopart.com/click/track?country=US&ak=69ad0c78&sig=04254c4&sid=2412&ppid=9271003&vpid=3543360&ct=offers', 'seller': {'__class__': 'Seller', 'display_flag': 'US', 'has_ecommerce': True, 'homepage_url': 'http://www.questcomp.com', 'id': '2412', 'name': 'Quest', 'uid': 'b29977939293615e'}, 'sku': 'LM1458N'}, {'__class__': 'PartOffer', '_naive_id': '126606d22f65255f8c4ea4fe41257fa9', 'eligible_region': '', 'factory_lead_days': None, 'factory_order_multiple': None, 'in_stock_quantity': 24, 'is_authorized': False, 'is_realtime': False, 'last_updated': '2018-02-23T22:36:26Z', 'moq': None, 'multipack_quantity': None, 'octopart_rfq_url': None, 'on_order_eta': None, 'on_order_quantity': None, 'order_multiple': None, 'packaging': None, 'prices': {}, 'product_url': 'https://octopart.com/click/track?country=US&ak=69ad0c78&sig=0ddf727&sid=27914&ppid=9271003&vpid=421790965&ct=offers', 'seller': {'__class__': 'Seller', 'display_flag': 'US', 'has_ecommerce': False, 'homepage_url': 'http://ltlg.us/', 'id': '11723', 'name': 'LTL Group', 'uid': '9d7e587499d34eb9'}, 'sku': 'LM1458N'}, {'__class__': 'PartOffer', '_naive_id': '834fa311b91b78a508ae20e18f70fba6', 'eligible_region': '', 'factory_lead_days': None, 'factory_order_multiple': None, 'in_stock_quantity': 20, 'is_authorized': False, 'is_realtime': False, 'last_updated': '2018-01-15T08:05:05Z', 'moq': None, 'multipack_quantity': None, 'octopart_rfq_url': 'https://octopart.com/rfq/generate?ppid=9271003&vpid=227821028', 'on_order_eta': None, 'on_order_quantity': None, 'order_multiple': None, 'packaging': None, 'prices': {}, 'product_url': 'https://octopart.com/click/track?country=US&ak=69ad0c78&sig=0dff14d&sid=20251&ppid=9271003&vpid=227821028&ct=offers', 'seller': {'__class__': 'Seller', 'display_flag': 'IL', 'has_ecommerce': False, 'homepage_url': 'http://www.gtelec.com/', 'id': '8169', 'name': 'GreenTree Electronics', 'uid': 'a633633990bc75f4'}, 'sku': 'LM1458N'}], 'redirected_uids': ['a96e6064833076a9'], 'uid': 'd4bd1d3a87000b7a'}], 'reference': None}\n"
     ]
    }
   ],
   "source": [
    "for i in mtch.results:\n",
    "    print(i)"
   ]
  }
 ],
 "metadata": {
  "kernelspec": {
   "display_name": "Python 3",
   "language": "python",
   "name": "python3"
  },
  "language_info": {
   "codemirror_mode": {
    "name": "ipython",
    "version": 3
   },
   "file_extension": ".py",
   "mimetype": "text/x-python",
   "name": "python",
   "nbconvert_exporter": "python",
   "pygments_lexer": "ipython3",
   "version": "3.6.3"
  }
 },
 "nbformat": 4,
 "nbformat_minor": 2
}
